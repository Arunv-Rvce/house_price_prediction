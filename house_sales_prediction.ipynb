{
 "cells": [
  {
   "cell_type": "code",
   "execution_count": 9,
   "metadata": {},
   "outputs": [],
   "source": [
    "# Required Libraraies\n",
    "import pandas as pd\n",
    "import numpy as np"
   ]
  },
  {
   "cell_type": "code",
   "execution_count": 2,
   "metadata": {
    "collapsed": true
   },
   "outputs": [],
   "source": [
    "# extract and cleaning the datasets\n",
    "raw_data =  pd.read_csv('kc_house_data.csv')\n",
    "raw_data.columns\n",
    "raw_data = raw_data.fillna(value=0)"
   ]
  },
  {
   "cell_type": "code",
   "execution_count": 3,
   "metadata": {},
   "outputs": [],
   "source": [
    "# Independent variable selection\n",
    "x_columns = ['bedrooms', 'bathrooms', 'sqft_living', 'floors', 'waterfront', 'view', 'condition', 'grade']\n",
    "# Dependent Variable \n",
    "y_columns  = ['price']\n",
    "\n",
    "# converting the data to required form for processing\n",
    "y_data = raw_data[y_columns].values.tolist()\n",
    "x_data = raw_data[x_columns].values.tolist()\n",
    "\n",
    "# Spliting Train and Test datasets\n",
    "x_train, x_test = x_data[:1800], x_data[1800:]\n",
    "y_train, y_test = y_data[:1800], y_data[1800:]\n",
    "\n",
    "x_data_added_constant = list()\n",
    "for row_data in x_train:\n",
    "    x_val = [1] # Adding b0 as 1\n",
    "    x_val.extend(np.array(row_data).astype(np.float))\n",
    "    x_data_added_constant.append(x_val)"
   ]
  },
  {
   "cell_type": "code",
   "execution_count": 4,
   "metadata": {},
   "outputs": [],
   "source": [
    "# Convertion of list to matrices\n",
    "x_mat =  np.asarray(x_data_added_constant)\n",
    "y_mat = np.asarray(y_train)\n",
    "x_mat_transpose = x_mat.transpose()\n",
    "\n",
    "# Calculations\n",
    "cal_1 = np.matmul(x_mat_transpose, x_mat)\n",
    "cal_2 = np.matmul(x_mat_transpose, y_mat)\n",
    "cal_3 = np.linalg.inv(cal_1)\n",
    "b_val = np.matmul(cal_3, cal_2)\n",
    "b_weights = [b_val[i][0] for i in range(len(b_val))]"
   ]
  },
  {
   "cell_type": "code",
   "execution_count": 7,
   "metadata": {},
   "outputs": [
    {
     "name": "stdout",
     "output_type": "stream",
     "text": [
      "Validation for the Train Dataset\n",
      "Result for 10 Train Data tuples\n",
      "Predicted:282487.655, Actual:221900.0, Difference:-60587.65499999991\n",
      "Predicted:538200.991, Actual:538000.0, Difference:-200.99100000003818\n",
      "Predicted:141140.35, Actual:180000.0, Difference:38859.65000000002\n",
      "Predicted:456793.524, Actual:604000.0, Difference:147206.47600000014\n",
      "Predicted:446708.684, Actual:510000.0, Difference:63291.31600000011\n",
      "Predicted:1384814.613, Actual:1225000.0, Difference:-159814.6129999999\n",
      "Predicted:362915.352, Actual:257500.0, Difference:-105415.35199999996\n",
      "Predicted:248523.735, Actual:291850.0, Difference:43326.26500000007\n",
      "Predicted:405495.121, Actual:229500.0, Difference:-175995.12099999993\n",
      "Predicted:394111.315, Actual:323000.0, Difference:-71111.315\n"
     ]
    }
   ],
   "source": [
    "print(\"Validation for the Train Dataset\")\n",
    "train_result = list()\n",
    "for i in range(len(x_train)):\n",
    "    x_values = x_train[i]\n",
    "    y_val = y_train[i]\n",
    "    predictions = 0\n",
    "    predictions = round(b_weights[0], 3)\n",
    "    for j in range(1, len(b_weights)):\n",
    "        predictions += round((b_weights[j] * x_values[j-1]), 3)\n",
    "        # print(b_weights[j], \"*\", x_values[j-1])\n",
    "    error = y_val - predictions\n",
    "    result = \"Predicted:{}, Actual:{}, Difference:{}\".format(round(predictions, 3), round(y_val[0], 3) , error[0])\n",
    "    train_result.append(result)\n",
    "\n",
    "print(\"Results for 10 Train Data tuples\")\n",
    "for i in range(0, 10):\n",
    "    print(train_result[i])"
   ]
  },
  {
   "cell_type": "code",
   "execution_count": 8,
   "metadata": {},
   "outputs": [
    {
     "name": "stdout",
     "output_type": "stream",
     "text": [
      "Validation for the Test Dataset\n",
      "Results for 10 Test Data tuples\n",
      "Predicted:282487.655, Actual:221900.0, Difference:-60587.65499999991\n",
      "Predicted:538200.991, Actual:538000.0, Difference:-200.99100000003818\n",
      "Predicted:141140.35, Actual:180000.0, Difference:38859.65000000002\n",
      "Predicted:456793.524, Actual:604000.0, Difference:147206.47600000014\n",
      "Predicted:446708.684, Actual:510000.0, Difference:63291.31600000011\n",
      "Predicted:1384814.613, Actual:1225000.0, Difference:-159814.6129999999\n",
      "Predicted:362915.352, Actual:257500.0, Difference:-105415.35199999996\n",
      "Predicted:248523.735, Actual:291850.0, Difference:43326.26500000007\n",
      "Predicted:405495.121, Actual:229500.0, Difference:-175995.12099999993\n",
      "Predicted:394111.315, Actual:323000.0, Difference:-71111.315\n"
     ]
    }
   ],
   "source": [
    "print(\"Validation for the Test Dataset\")\n",
    "for i in range(len(x_test)):\n",
    "    x_values = x_test[i]\n",
    "    y_val = y_test[i]\n",
    "    predictions = 0\n",
    "    error = 0\n",
    "    predictions = round(b_weights[0], 3)\n",
    "    for j in range(1, len(b_weights)):\n",
    "        predictions += round((b_weights[j] * x_values[j-1]), 3)\n",
    "        # print(b_weights[j], \"*\", x_values[j-1])\n",
    "    error = y_val - predictions\n",
    "    result = \"Predicted:{}, Actual:{}, Difference:{}\".format(round(predictions, 3), round(y_val[0], 3) , error[0])\n",
    "    train_result.append(result)\n",
    "\n",
    "print(\"Results for 10 Test Data tuples\")\n",
    "for i in range(0, 10):\n",
    "    print(train_result[i])"
   ]
  }
 ],
 "metadata": {
  "kernelspec": {
   "display_name": "Python 3",
   "language": "python",
   "name": "python3"
  },
  "language_info": {
   "codemirror_mode": {
    "name": "ipython",
    "version": 3
   },
   "file_extension": ".py",
   "mimetype": "text/x-python",
   "name": "python",
   "nbconvert_exporter": "python",
   "pygments_lexer": "ipython3",
   "version": "3.6.1"
  }
 },
 "nbformat": 4,
 "nbformat_minor": 2
}
